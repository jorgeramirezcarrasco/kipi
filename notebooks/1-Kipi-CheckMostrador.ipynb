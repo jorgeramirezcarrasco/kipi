{
 "cells": [
  {
   "cell_type": "code",
   "execution_count": null,
   "metadata": {},
   "outputs": [],
   "source": [
    "import cv2\n",
    "from IPython.display import clear_output\n",
    "import sys\n",
    "\n",
    "\n",
    "sys.path.append('../')\n",
    "from utils.utils import read_from_env_file\n",
    "\n",
    "env_vars = read_from_env_file()"
   ]
  },
  {
   "cell_type": "code",
   "execution_count": null,
   "metadata": {},
   "outputs": [],
   "source": [
    "#cap = cv2.VideoCapture('../data/tienda.mp4')\n",
    "cap = cv2.VideoCapture(env_vars[\"URL_CAMERA_TIENDA\"])"
   ]
  },
  {
   "cell_type": "code",
   "execution_count": null,
   "metadata": {},
   "outputs": [],
   "source": [
    "#videopath = '../data/artifacts/videos/tienda.mp4'\n",
    "#vid = cv2.VideoCapture(videopath)\n",
    "%pylab inline \n",
    "\n",
    "#while(True):\n",
    "for ii in range(10):\n",
    "        ret, frame = cap.read()\n",
    "        frame = cv2.cvtColor(frame, cv2.COLOR_BGR2RGB)\n",
    "        fig=figure(figsize=(24, 16))\n",
    "        title(\"Video Stream\")\n",
    "        imshow(frame)\n",
    "        show()\n",
    "        clear_output(wait=True)"
   ]
  },
  {
   "cell_type": "code",
   "execution_count": null,
   "metadata": {},
   "outputs": [],
   "source": []
  }
 ],
 "metadata": {
  "kernelspec": {
   "display_name": "venv-kipi",
   "language": "python",
   "name": "venv-kipi"
  },
  "language_info": {
   "codemirror_mode": {
    "name": "ipython",
    "version": 3
   },
   "file_extension": ".py",
   "mimetype": "text/x-python",
   "name": "python",
   "nbconvert_exporter": "python",
   "pygments_lexer": "ipython3",
   "version": "3.7.4"
  }
 },
 "nbformat": 4,
 "nbformat_minor": 4
}
