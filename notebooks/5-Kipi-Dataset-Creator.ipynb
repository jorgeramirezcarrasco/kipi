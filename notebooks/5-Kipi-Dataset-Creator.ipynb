{
 "cells": [
  {
   "cell_type": "code",
   "execution_count": 1,
   "metadata": {},
   "outputs": [],
   "source": [
    "import sys\n",
    "import cv2\n",
    "sys.path.append('../')\n",
    "from utils.utils import read_from_env_file\n",
    "from utils.dataset_creator_utils import create_ds_from_video_feed\n",
    "env_vars = read_from_env_file()"
   ]
  },
  {
   "cell_type": "code",
   "execution_count": 2,
   "metadata": {},
   "outputs": [
    {
     "name": "stderr",
     "output_type": "stream",
     "text": [
      "100%|██████████| 100/100 [2:51:54<00:00, 103.14s/it] \n"
     ]
    }
   ],
   "source": [
    "create_ds_from_video_feed(feed=env_vars[\"URL_CAMERA_TIENDA\"],num_images=100)"
   ]
  },
  {
   "cell_type": "code",
   "execution_count": null,
   "metadata": {},
   "outputs": [],
   "source": []
  }
 ],
 "metadata": {
  "kernelspec": {
   "display_name": "venv-kipi",
   "language": "python",
   "name": "venv-kipi"
  },
  "language_info": {
   "codemirror_mode": {
    "name": "ipython",
    "version": 3
   },
   "file_extension": ".py",
   "mimetype": "text/x-python",
   "name": "python",
   "nbconvert_exporter": "python",
   "pygments_lexer": "ipython3",
   "version": "3.7.4"
  }
 },
 "nbformat": 4,
 "nbformat_minor": 4
}
