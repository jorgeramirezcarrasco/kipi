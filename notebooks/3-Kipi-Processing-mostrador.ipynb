{
 "cells": [
  {
   "cell_type": "code",
   "execution_count": null,
   "metadata": {},
   "outputs": [],
   "source": [
    "import cv2\n",
    "import numpy as np\n",
    "from math import sqrt\n",
    "from matplotlib import pyplot as plt\n",
    "import sys\n",
    "sys.path.append('../')\n",
    "from utils.utils import read_from_env_file\n",
    "\n",
    "env_vars = read_from_env_file()\n",
    "\n",
    "%matplotlib inline"
   ]
  },
  {
   "cell_type": "code",
   "execution_count": null,
   "metadata": {},
   "outputs": [],
   "source": [
    "%ll ../../data"
   ]
  },
  {
   "cell_type": "code",
   "execution_count": null,
   "metadata": {},
   "outputs": [],
   "source": [
    "def plot_image(img, figsize=(24,16)):\n",
    "    plt.close('all')\n",
    "    fig, ax = plt.subplots(figsize=figsize)\n",
    "    ax.imshow(img, cmap='gray')\n",
    "    #ax.axis('off')\n",
    "    plt.show()"
   ]
  },
  {
   "cell_type": "code",
   "execution_count": null,
   "metadata": {},
   "outputs": [],
   "source": [
    "def extract_frames_from_video(path, frames_steps=10):\n",
    "    \"\"\" Returns a list of frames of input video \"\"\"\n",
    "    # Open video and get number of frames\n",
    "    cap = cv2.VideoCapture(path)\n",
    "    frames = int(cap.get(cv2.CAP_PROP_FRAME_COUNT))\n",
    "    print(f'Frames in video: {frames}')\n",
    "    \n",
    "    # Frames to extract\n",
    "    frames_list = [int(frames/frames_steps)*step\n",
    "                   for step in range(frames_steps)]\n",
    "\n",
    "    # Extract frames\n",
    "    frames = list()\n",
    "    for frame_n in frames_list:\n",
    "        cap.set(1, frame_n)\n",
    "        ret, frame = cap.read()\n",
    "        frame = cv2.cvtColor(frame, cv2.COLOR_BGR2RGB)\n",
    "        frames.append(frame)\n",
    "    \n",
    "    # Close video\n",
    "    cap.release()\n",
    "    return frames"
   ]
  },
  {
   "cell_type": "code",
   "execution_count": null,
   "metadata": {},
   "outputs": [],
   "source": [
    "#frames = extract_frames_from_video('../../data/video_1.mp4')\n",
    "frames = extract_frames_from_video(env_vars[\"URL_CAMERA_TIENDA\"])"
   ]
  },
  {
   "cell_type": "code",
   "execution_count": null,
   "metadata": {},
   "outputs": [],
   "source": [
    "raw_img = frames[0]"
   ]
  },
  {
   "cell_type": "code",
   "execution_count": null,
   "metadata": {},
   "outputs": [],
   "source": [
    "plot_image(raw_img)"
   ]
  },
  {
   "cell_type": "markdown",
   "metadata": {},
   "source": [
    "### Crop mostrador step by step"
   ]
  },
  {
   "cell_type": "code",
   "execution_count": null,
   "metadata": {},
   "outputs": [],
   "source": [
    "vitr_pts = {'top-left': (840, 430),\n",
    "            'top-right': (320, 1380),\n",
    "            'bottom-left': (970, 510),\n",
    "            'bottom-right': (390, 1510)}"
   ]
  },
  {
   "cell_type": "code",
   "execution_count": null,
   "metadata": {},
   "outputs": [],
   "source": [
    "img_pts = raw_img.copy()\n",
    "for y, x in vitr_pts.values():\n",
    "    # Radius of circle \n",
    "    radius = 3\n",
    "    # Red color in RGB \n",
    "    color = (255, 0, 0) \n",
    "    # Line thickness of 2 px \n",
    "    thickness = 5\n",
    "    # Using cv2.circle() method \n",
    "    img_pts = cv2.circle(img_pts, (x, y), radius, color, thickness) "
   ]
  },
  {
   "cell_type": "code",
   "execution_count": null,
   "metadata": {},
   "outputs": [],
   "source": [
    "plot_image(img_pts)"
   ]
  },
  {
   "cell_type": "code",
   "execution_count": null,
   "metadata": {},
   "outputs": [],
   "source": [
    "a = vitr_pts['top-right'][1] - vitr_pts['top-left'][1]\n",
    "b = vitr_pts['top-left'][0] - vitr_pts['top-right'][0]\n",
    "width = round(sqrt(a**2 + b**2))"
   ]
  },
  {
   "cell_type": "code",
   "execution_count": null,
   "metadata": {},
   "outputs": [],
   "source": [
    "a = vitr_pts['top-left'][1] - vitr_pts['bottom-left'][1]\n",
    "b = vitr_pts['bottom-left'][0] - vitr_pts['top-left'][0]\n",
    "height = round(sqrt(a**2 + b**2))"
   ]
  },
  {
   "cell_type": "code",
   "execution_count": null,
   "metadata": {},
   "outputs": [],
   "source": [
    "print(f'Width: {width} - Height: {height}')"
   ]
  },
  {
   "cell_type": "code",
   "execution_count": null,
   "metadata": {},
   "outputs": [],
   "source": [
    "raw_pts = np.float32([[x, y] for y, x in vitr_pts.values()])"
   ]
  },
  {
   "cell_type": "code",
   "execution_count": null,
   "metadata": {},
   "outputs": [],
   "source": [
    "raw_pts"
   ]
  },
  {
   "cell_type": "code",
   "execution_count": null,
   "metadata": {},
   "outputs": [],
   "source": [
    "dst_pts = np.float32([[0, 0], [width, 0],\n",
    "                      [0, height], [width, height]])"
   ]
  },
  {
   "cell_type": "code",
   "execution_count": null,
   "metadata": {},
   "outputs": [],
   "source": [
    "dst_pts"
   ]
  },
  {
   "cell_type": "code",
   "execution_count": null,
   "metadata": {},
   "outputs": [],
   "source": [
    "M = cv2.getPerspectiveTransform(raw_pts, dst_pts)"
   ]
  },
  {
   "cell_type": "code",
   "execution_count": null,
   "metadata": {},
   "outputs": [],
   "source": [
    "img_crop = cv2.warpPerspective(raw_img, M, (width, height))"
   ]
  },
  {
   "cell_type": "code",
   "execution_count": null,
   "metadata": {},
   "outputs": [],
   "source": [
    "plot_image(img_crop)"
   ]
  },
  {
   "cell_type": "code",
   "execution_count": null,
   "metadata": {},
   "outputs": [],
   "source": [
    "div_lines_x = [240, 500, 770]"
   ]
  },
  {
   "cell_type": "code",
   "execution_count": null,
   "metadata": {},
   "outputs": [],
   "source": [
    "img_lines = img_crop.copy()\n",
    "for x in div_lines_x:\n",
    "    # Line coordinates\n",
    "    start_point = (x, 0) \n",
    "    end_point = (x, img_lines.shape[0]) \n",
    "    # Red color in RGB\n",
    "    color = (255, 0, 0) \n",
    "    # Line thicknes\n",
    "    thickness = 2\n",
    "    # Using cv2.line() method \n",
    "    img_lines = cv2.line(img_lines, start_point, end_point, color, thickness) "
   ]
  },
  {
   "cell_type": "code",
   "execution_count": null,
   "metadata": {},
   "outputs": [],
   "source": [
    "plot_image(img_lines)"
   ]
  },
  {
   "cell_type": "code",
   "execution_count": null,
   "metadata": {},
   "outputs": [],
   "source": [
    "vitr_crops = list()\n",
    "for idx, x in enumerate(div_lines_x):\n",
    "    if idx == 0:\n",
    "        crop = img_crop[: , :x, :]\n",
    "    elif idx == (len(div_lines_x) - 1):\n",
    "        crop = img_crop[: , x:, :]\n",
    "    else:\n",
    "        crop = img_crop[: , div_lines_x[idx-1]:x]\n",
    "    vitr_crops.append(crop)"
   ]
  },
  {
   "cell_type": "code",
   "execution_count": null,
   "metadata": {},
   "outputs": [],
   "source": [
    "for vitr_img in vitr_crops:\n",
    "    plot_image(vitr_img, figsize=(10, 10))"
   ]
  },
  {
   "cell_type": "markdown",
   "metadata": {},
   "source": [
    "### Wrap up in a function"
   ]
  },
  {
   "cell_type": "code",
   "execution_count": null,
   "metadata": {},
   "outputs": [],
   "source": [
    "def extract_mostrador_imgs(img,\n",
    "                           vitr_pts = {'top-left': (840, 430),\n",
    "                                       'top-right': (320, 1380),\n",
    "                                       'bottom-left': (970, 510),\n",
    "                                       'bottom-right': (390, 1510)},\n",
    "                           div_lines_x = [240, 500, 770]):\n",
    "    # Calculate width - height\n",
    "    a = vitr_pts['top-right'][1] - vitr_pts['top-left'][1]\n",
    "    b = vitr_pts['top-left'][0] - vitr_pts['top-right'][0]\n",
    "    width = round(sqrt(a**2 + b**2))\n",
    "    \n",
    "    a = vitr_pts['top-left'][1] - vitr_pts['bottom-left'][1]\n",
    "    b = vitr_pts['bottom-left'][0] - vitr_pts['top-left'][0]\n",
    "    height = round(sqrt(a**2 + b**2))\n",
    "    \n",
    "    # Crop image with warp perspective\n",
    "    raw_pts = np.float32([[x, y] for y, x in vitr_pts.values()])\n",
    "    dst_pts = np.float32([[0, 0], [width, 0],\n",
    "                          [0, height], [width, height]])\n",
    "    M = cv2.getPerspectiveTransform(raw_pts, dst_pts)\n",
    "    img_crop = cv2.warpPerspective(img, M, (width, height))\n",
    "    \n",
    "    vitr_crops = list()\n",
    "    for idx, x in enumerate(div_lines_x):\n",
    "        if idx == 0:\n",
    "            crop = img_crop[: , :x, :]\n",
    "        elif idx == (len(div_lines_x) - 1):\n",
    "            crop = img_crop[: , x:, :]\n",
    "        else:\n",
    "            crop = img_crop[: , div_lines_x[idx-1]:x]\n",
    "        vitr_crops.append(crop)\n",
    "    return img_crop, vitr_crops"
   ]
  },
  {
   "cell_type": "code",
   "execution_count": null,
   "metadata": {},
   "outputs": [],
   "source": [
    "for idx, img in enumerate(frames):\n",
    "    print(f'Frame: {idx}')\n",
    "    plot_image(img, figsize=(15,15))\n",
    "    img_crop, _ = extract_mostrador_imgs(img)\n",
    "    plot_image(img_crop, figsize=(20,20))"
   ]
  },
  {
   "cell_type": "code",
   "execution_count": null,
   "metadata": {},
   "outputs": [],
   "source": []
  }
 ],
 "metadata": {
  "kernelspec": {
   "display_name": "venv-kipi",
   "language": "python",
   "name": "venv-kipi"
  },
  "language_info": {
   "codemirror_mode": {
    "name": "ipython",
    "version": 3
   },
   "file_extension": ".py",
   "mimetype": "text/x-python",
   "name": "python",
   "nbconvert_exporter": "python",
   "pygments_lexer": "ipython3",
   "version": "3.7.4"
  }
 },
 "nbformat": 4,
 "nbformat_minor": 4
}
