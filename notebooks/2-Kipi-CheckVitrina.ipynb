{
 "cells": [
  {
   "cell_type": "code",
   "execution_count": null,
   "metadata": {},
   "outputs": [],
   "source": [
    "import cv2\n",
    "from IPython.display import clear_output\n"
   ]
  },
  {
   "cell_type": "code",
   "execution_count": null,
   "metadata": {},
   "outputs": [],
   "source": [
    "cap = cv2.VideoCapture('../data/tienda.mp4')\n"
   ]
  },
  {
   "cell_type": "code",
   "execution_count": null,
   "metadata": {},
   "outputs": [],
   "source": [
    "videopath = '../../data/artifacts/videos/tienda.mp4'\n",
    "\n",
    "%pylab inline \n",
    "\n",
    "import imutils\n",
    "vid = cv2.VideoCapture(videopath)\n",
    "\n",
    "print_frame = 500\n",
    "while(True):\n",
    "    ret, frame = vid.read()\n",
    "#for ii in range(10):\n",
    "    if print_frame > 0:\n",
    "        print_frame -= 1\n",
    "        continue\n",
    "    else:\n",
    "        print_frame = 500\n",
    "        \n",
    "        frame = cv2.cvtColor(frame, cv2.COLOR_BGR2RGB)\n",
    "\n",
    "        def rotate_image(image, angle):\n",
    "          image_center = tuple(np.array(image.shape[1::-1]) / 2)\n",
    "          rot_mat = cv2.getRotationMatrix2D(image_center, angle, 1.0)\n",
    "          result = cv2.warpAffine(image, rot_mat, image.shape[1::-1], flags=cv2.INTER_LINEAR)\n",
    "          return result\n",
    "        \n",
    "        def round_up(n, decimals=0):\n",
    "            multiplier = 10 ** decimals\n",
    "            return math.ceil(n * multiplier) / multiplier\n",
    "\n",
    "\n",
    "        image = frame\n",
    "        image = rotate_image(image, -28)\n",
    "        image = image[450:650, 680:1650]\n",
    "\n",
    "        gray = cv2.cvtColor(image, cv2.COLOR_BGR2GRAY)\n",
    "        thresh = cv2.adaptiveThreshold(gray,255,cv2.ADAPTIVE_THRESH_GAUSSIAN_C, cv2.THRESH_BINARY_INV,11,3)\n",
    "\n",
    "        mask = thresh.copy()\n",
    "        mask = cv2.merge([mask,mask,mask])\n",
    "\n",
    "        picture_threshold = image.shape[0] * image.shape[1] * .001\n",
    "        cnts = cv2.findContours(thresh, cv2.RETR_EXTERNAL, cv2.CHAIN_APPROX_SIMPLE)\n",
    "        cnts = cnts[0] if len(cnts) == 2 else cnts[1]\n",
    "        for c in cnts:\n",
    "            area = cv2.contourArea(c)\n",
    "            if area < picture_threshold:\n",
    "                cv2.drawContours(mask, [c], -1, (0,0,0), -1)\n",
    "\n",
    "        mask = cv2.cvtColor(mask, cv2.COLOR_BGR2GRAY)\n",
    "        result = cv2.bitwise_xor(thresh, mask)\n",
    "\n",
    "        text_pixels = cv2.countNonZero(result)\n",
    "        percentage = (text_pixels / (image.shape[0] * image.shape[1])) * 100\n",
    "\n",
    "        fig=figure(figsize=(24, 16))\n",
    "        title('Porcentaje de vitrina completa: {:.2f}%'.format(100-round_up(percentage,-1)))\n",
    "        columns = 1\n",
    "        rows = 2\n",
    "        fig.add_subplot(rows, columns, 1)\n",
    "        plt.imshow(thresh)\n",
    "        fig.add_subplot(rows, columns, 2)\n",
    "        plt.imshow(frame)\n",
    "        \n",
    "\n",
    "        def get_axis_limits(ax, scale=.9):\n",
    "            return ax.get_xlim()[1]*scale, ax.get_ylim()[1]*scale\n",
    "\n",
    "        plt.show()\n",
    "        #imshow(thresh)\n",
    "        #imshow(frame)\n",
    "\n",
    "        #show()\n",
    "        clear_output(wait=True)"
   ]
  }
 ],
 "metadata": {
  "kernelspec": {
   "display_name": "venv-kipi",
   "language": "python",
   "name": "venv-kipi"
  },
  "language_info": {
   "codemirror_mode": {
    "name": "ipython",
    "version": 3
   },
   "file_extension": ".py",
   "mimetype": "text/x-python",
   "name": "python",
   "nbconvert_exporter": "python",
   "pygments_lexer": "ipython3",
   "version": "3.7.4"
  }
 },
 "nbformat": 4,
 "nbformat_minor": 4
}
