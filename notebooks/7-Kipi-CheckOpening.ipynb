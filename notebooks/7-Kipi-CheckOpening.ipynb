{
 "cells": [
  {
   "cell_type": "code",
   "execution_count": null,
   "metadata": {},
   "outputs": [],
   "source": [
    "import cv2\n",
    "from IPython.display import clear_output\n",
    "import sys\n",
    "\n",
    "\n",
    "sys.path.append('../')\n",
    "from utils.utils import read_from_env_file\n",
    "from utils.img_inference_utils import extract_shopfront_imgs\n",
    "\n",
    "env_vars = read_from_env_file()"
   ]
  },
  {
   "cell_type": "code",
   "execution_count": null,
   "metadata": {},
   "outputs": [],
   "source": [
    "cap = cv2.VideoCapture('../data/artifacts/videos/opening.mp4')"
   ]
  },
  {
   "cell_type": "code",
   "execution_count": null,
   "metadata": {},
   "outputs": [],
   "source": [
    "%pylab inline \n",
    "skip_frames = 10\n",
    "while(True):\n",
    "        ret, frame = cap.read()\n",
    "        if skip_frames == 0:\n",
    "            frame_saturation, _ = extract_shopfront_imgs(frame,{'top-left': (800, 1250),\n",
    "            'top-right': (750, 1380),\n",
    "            'bottom-left': (850, 1200),\n",
    "            'bottom-right': (800, 1510)})\n",
    "            frame = cv2.cvtColor(frame, cv2.COLOR_BGR2RGB)\n",
    "            img_hsv = cv2.cvtColor(frame_saturation, cv2.COLOR_BGR2HSV)\n",
    "            saturation = img_hsv[:, 1, :].mean()\n",
    "            label = \"Closed\"\n",
    "            if saturation > 70:\n",
    "                label= \"Open\"\n",
    "            fig=figure(figsize=(24, 16))\n",
    "            title(f\"Video Stream - {label} - {saturation}\")\n",
    "            imshow(frame)\n",
    "            show()\n",
    "            clear_output(wait=True)\n",
    "            skip_frames = 10\n",
    "        else:\n",
    "            skip_frames -=1"
   ]
  },
  {
   "cell_type": "code",
   "execution_count": null,
   "metadata": {},
   "outputs": [],
   "source": [
    "cap = cv2.VideoCapture('../data/artifacts/videos/closing.mp4')"
   ]
  },
  {
   "cell_type": "code",
   "execution_count": null,
   "metadata": {},
   "outputs": [],
   "source": [
    "%pylab inline \n",
    "skip_frames = 50\n",
    "while(True):\n",
    "        ret, frame = cap.read()\n",
    "        if skip_frames == 0:\n",
    "            frame_saturation, _ = extract_shopfront_imgs(frame,{'top-left': (800, 1250),\n",
    "            'top-right': (750, 1380),\n",
    "            'bottom-left': (850, 1200),\n",
    "            'bottom-right': (800, 1510)})\n",
    "            frame = cv2.cvtColor(frame, cv2.COLOR_BGR2RGB)\n",
    "            img_hsv = cv2.cvtColor(frame_saturation, cv2.COLOR_BGR2HSV)\n",
    "            saturation = img_hsv[:, 1, :].mean()\n",
    "            label = \"Closed\"\n",
    "            if saturation > 70:\n",
    "                label= \"Open\"\n",
    "            fig=figure(figsize=(24, 16))\n",
    "            title(f\"Video Stream - {label} - {saturation}\")\n",
    "            imshow(frame)\n",
    "            show()\n",
    "            clear_output(wait=True)\n",
    "            skip_frames = 50\n",
    "        else:\n",
    "            skip_frames -=1"
   ]
  },
  {
   "cell_type": "code",
   "execution_count": null,
   "metadata": {},
   "outputs": [],
   "source": [
    "cap = cv2.VideoCapture(env_vars[\"URL_CAMERA_TIENDA\"])"
   ]
  },
  {
   "cell_type": "code",
   "execution_count": null,
   "metadata": {},
   "outputs": [],
   "source": [
    "%pylab inline \n",
    "for ii in range(10):\n",
    "        ret, frame = cap.read()\n",
    "        frame_saturation, _ = extract_shopfront_imgs(frame,{'top-left': (800, 1250),\n",
    "        'top-right': (750, 1380),\n",
    "        'bottom-left': (850, 1200),\n",
    "        'bottom-right': (800, 1510)})\n",
    "        frame = cv2.cvtColor(frame, cv2.COLOR_BGR2RGB)\n",
    "        img_hsv = cv2.cvtColor(frame_saturation, cv2.COLOR_BGR2HSV)\n",
    "        saturation = img_hsv[:, 1, :].mean()\n",
    "        label = \"Closed\"\n",
    "        if saturation > 70:\n",
    "            label= \"Open\"\n",
    "        fig=figure(figsize=(24, 16))\n",
    "        title(f\"Video Stream - {label} - {saturation}\")\n",
    "        imshow(frame)\n",
    "        show()\n",
    "        clear_output(wait=True)\n"
   ]
  },
  {
   "cell_type": "code",
   "execution_count": null,
   "metadata": {},
   "outputs": [],
   "source": []
  }
 ],
 "metadata": {
  "kernelspec": {
   "display_name": "venv-kipi",
   "language": "python",
   "name": "venv-kipi"
  },
  "language_info": {
   "codemirror_mode": {
    "name": "ipython",
    "version": 3
   },
   "file_extension": ".py",
   "mimetype": "text/x-python",
   "name": "python",
   "nbconvert_exporter": "python",
   "pygments_lexer": "ipython3",
   "version": "3.7.8"
  }
 },
 "nbformat": 4,
 "nbformat_minor": 4
}
